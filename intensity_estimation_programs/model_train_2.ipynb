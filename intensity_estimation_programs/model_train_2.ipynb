{
 "cells": [
  {
   "attachments": {},
   "cell_type": "markdown",
   "metadata": {},
   "source": [
    "Libraries"
   ]
  },
  {
   "cell_type": "code",
   "execution_count": 1,
   "metadata": {},
   "outputs": [],
   "source": [
    "import pandas as pd\n",
    "import numpy as np\n",
    "import os\n",
    "from keras.preprocessing.image import *\n",
    "from keras.utils import load_img, img_to_array\n",
    "from keras.models import Sequential\n",
    "from keras.layers import Dense, Flatten, Conv2D, MaxPooling2D, Dropout, BatchNormalization\n",
    "from keras.optimizers import Adam\n",
    "from sklearn.model_selection import train_test_split"
   ]
  },
  {
   "attachments": {},
   "cell_type": "markdown",
   "metadata": {},
   "source": [
    "Dataset Path"
   ]
  },
  {
   "cell_type": "code",
   "execution_count": 2,
   "metadata": {},
   "outputs": [],
   "source": [
    "csv_path  = 'D:/Projects/IoT Domain Analyst J Comp/Codes/Intensity/archive/insat_3d_ds - Sheet.csv'\n",
    "image_path = 'D:/Projects/IoT Domain Analyst J Comp/Codes/Intensity/archive/insat3d_ir_cyclone_ds/CYCLONE_DATASET_INFRARED/'"
   ]
  },
  {
   "cell_type": "code",
   "execution_count": 3,
   "metadata": {},
   "outputs": [],
   "source": [
    "labels_df = pd.read_csv(csv_path)\n",
    "labels_dict = dict(zip(labels_df['img_name'], labels_df['label']))"
   ]
  },
  {
   "attachments": {},
   "cell_type": "markdown",
   "metadata": {},
   "source": [
    "Model parameters"
   ]
  },
  {
   "cell_type": "code",
   "execution_count": 4,
   "metadata": {},
   "outputs": [],
   "source": [
    "input_shape = (64, 64, 3)\n",
    "batch_size = 32\n",
    "epochs = 100"
   ]
  },
  {
   "attachments": {},
   "cell_type": "markdown",
   "metadata": {},
   "source": [
    "Model architecture"
   ]
  },
  {
   "cell_type": "code",
   "execution_count": 5,
   "metadata": {},
   "outputs": [],
   "source": [
    "model = Sequential()\n",
    "model.add(Conv2D(32, kernel_size=(3, 3), activation='relu', input_shape=input_shape)) # input\n",
    "model.add(BatchNormalization())\n",
    "model.add(MaxPooling2D(pool_size=(2, 2)))\n",
    "model.add(Conv2D(64, kernel_size=(3, 3), activation='relu')) # hidden layer 1\n",
    "model.add(BatchNormalization())\n",
    "model.add(MaxPooling2D(pool_size=(2, 2)))\n",
    "model.add(Flatten())\n",
    "model.add(Dense(128, activation='relu')) # hidden Layer 2\n",
    "model.add(Dropout(0.5))\n",
    "model.add(Dense(1, activation='linear')) # output layer - regression - single neuron fully connected layer"
   ]
  },
  {
   "attachments": {},
   "cell_type": "markdown",
   "metadata": {},
   "source": [
    "Model evaluation metrics"
   ]
  },
  {
   "cell_type": "code",
   "execution_count": 6,
   "metadata": {},
   "outputs": [],
   "source": [
    "model.compile(loss='mae', optimizer=Adam(), metrics=['mean_squared_error'])\n",
    "# mean absolute error\n",
    "# model.compile(loss='mae', optimizer=Adam(), metrics=['accuracy'])"
   ]
  },
  {
   "attachments": {},
   "cell_type": "markdown",
   "metadata": {},
   "source": [
    "Loading image into model"
   ]
  },
  {
   "cell_type": "code",
   "execution_count": 7,
   "metadata": {},
   "outputs": [],
   "source": [
    "images = []\n",
    "labels = []\n",
    "for filename in os.listdir(image_path):\n",
    "    # Load the image\n",
    "    img = load_img(os.path.join(image_path, filename), target_size=input_shape[:2])\n",
    "    img = img_to_array(img)\n",
    "    images.append(img)\n",
    "    \n",
    "    # Get the label from the labels_dict\n",
    "    labels.append(labels_dict[filename])"
   ]
  },
  {
   "cell_type": "code",
   "execution_count": 12,
   "metadata": {},
   "outputs": [],
   "source": [
    "images = np.array(images)\n",
    "labels = np.array(labels)"
   ]
  },
  {
   "attachments": {},
   "cell_type": "markdown",
   "metadata": {},
   "source": [
    "Splitting dataset into training and test"
   ]
  },
  {
   "cell_type": "code",
   "execution_count": 13,
   "metadata": {},
   "outputs": [],
   "source": [
    "X_train, X_val, y_train, y_val = train_test_split(images, labels, test_size=0.2, random_state=42)"
   ]
  },
  {
   "attachments": {},
   "cell_type": "markdown",
   "metadata": {},
   "source": [
    "Training Model"
   ]
  },
  {
   "cell_type": "code",
   "execution_count": 23,
   "metadata": {},
   "outputs": [
    {
     "name": "stdout",
     "output_type": "stream",
     "text": [
      "Epoch 1/100\n",
      "4/4 [==============================] - 0s 58ms/step - loss: 7.7634 - mean_squared_error: 92.8894 - val_loss: 13.7532 - val_mean_squared_error: 272.3934\n",
      "Epoch 2/100\n",
      "4/4 [==============================] - 0s 46ms/step - loss: 7.4745 - mean_squared_error: 89.9421 - val_loss: 13.7284 - val_mean_squared_error: 271.2845\n",
      "Epoch 3/100\n",
      "4/4 [==============================] - 0s 45ms/step - loss: 7.7640 - mean_squared_error: 111.5378 - val_loss: 13.5608 - val_mean_squared_error: 263.1002\n",
      "Epoch 4/100\n",
      "4/4 [==============================] - 0s 45ms/step - loss: 7.2546 - mean_squared_error: 97.6944 - val_loss: 14.1032 - val_mean_squared_error: 293.9071\n",
      "Epoch 5/100\n",
      "4/4 [==============================] - 0s 45ms/step - loss: 7.4259 - mean_squared_error: 88.6061 - val_loss: 14.2453 - val_mean_squared_error: 298.6710\n",
      "Epoch 6/100\n",
      "4/4 [==============================] - 0s 45ms/step - loss: 6.7005 - mean_squared_error: 77.4541 - val_loss: 13.3957 - val_mean_squared_error: 258.6090\n",
      "Epoch 7/100\n",
      "4/4 [==============================] - 0s 43ms/step - loss: 7.9627 - mean_squared_error: 110.4916 - val_loss: 13.4385 - val_mean_squared_error: 262.2818\n",
      "Epoch 8/100\n",
      "4/4 [==============================] - 0s 45ms/step - loss: 7.9487 - mean_squared_error: 116.9307 - val_loss: 14.9390 - val_mean_squared_error: 322.0791\n",
      "Epoch 9/100\n",
      "4/4 [==============================] - 0s 43ms/step - loss: 7.9716 - mean_squared_error: 121.2903 - val_loss: 16.0933 - val_mean_squared_error: 364.4637\n",
      "Epoch 10/100\n",
      "4/4 [==============================] - 0s 43ms/step - loss: 8.8203 - mean_squared_error: 140.6163 - val_loss: 14.1347 - val_mean_squared_error: 290.2213\n",
      "Epoch 11/100\n",
      "4/4 [==============================] - 0s 42ms/step - loss: 8.3545 - mean_squared_error: 106.7467 - val_loss: 13.5581 - val_mean_squared_error: 266.0506\n",
      "Epoch 12/100\n",
      "4/4 [==============================] - 0s 43ms/step - loss: 7.1576 - mean_squared_error: 85.9243 - val_loss: 13.8852 - val_mean_squared_error: 275.8735\n",
      "Epoch 13/100\n",
      "4/4 [==============================] - 0s 41ms/step - loss: 7.5847 - mean_squared_error: 90.1964 - val_loss: 14.1103 - val_mean_squared_error: 284.9281\n",
      "Epoch 14/100\n",
      "4/4 [==============================] - 0s 42ms/step - loss: 7.6355 - mean_squared_error: 101.9727 - val_loss: 13.7473 - val_mean_squared_error: 272.8184\n",
      "Epoch 15/100\n",
      "4/4 [==============================] - 0s 40ms/step - loss: 7.3477 - mean_squared_error: 95.8579 - val_loss: 13.3417 - val_mean_squared_error: 268.0873\n",
      "Epoch 16/100\n",
      "4/4 [==============================] - 0s 42ms/step - loss: 8.1212 - mean_squared_error: 121.6737 - val_loss: 13.3113 - val_mean_squared_error: 268.7222\n",
      "Epoch 17/100\n",
      "4/4 [==============================] - 0s 42ms/step - loss: 8.8253 - mean_squared_error: 153.9095 - val_loss: 14.0408 - val_mean_squared_error: 288.3300\n",
      "Epoch 18/100\n",
      "4/4 [==============================] - 0s 44ms/step - loss: 8.2646 - mean_squared_error: 128.7817 - val_loss: 14.6778 - val_mean_squared_error: 317.1828\n",
      "Epoch 19/100\n",
      "4/4 [==============================] - 0s 44ms/step - loss: 7.7587 - mean_squared_error: 112.0949 - val_loss: 13.8728 - val_mean_squared_error: 279.3956\n",
      "Epoch 20/100\n",
      "4/4 [==============================] - 0s 42ms/step - loss: 7.7098 - mean_squared_error: 110.3919 - val_loss: 13.7615 - val_mean_squared_error: 275.3012\n",
      "Epoch 21/100\n",
      "4/4 [==============================] - 0s 41ms/step - loss: 7.3195 - mean_squared_error: 103.2861 - val_loss: 13.9669 - val_mean_squared_error: 282.1870\n",
      "Epoch 22/100\n",
      "4/4 [==============================] - 0s 44ms/step - loss: 7.4890 - mean_squared_error: 99.0579 - val_loss: 14.0669 - val_mean_squared_error: 287.1425\n",
      "Epoch 23/100\n",
      "4/4 [==============================] - 0s 43ms/step - loss: 7.2335 - mean_squared_error: 97.5206 - val_loss: 13.6491 - val_mean_squared_error: 273.7153\n",
      "Epoch 24/100\n",
      "4/4 [==============================] - 0s 41ms/step - loss: 6.9085 - mean_squared_error: 81.6504 - val_loss: 13.4919 - val_mean_squared_error: 268.8233\n",
      "Epoch 25/100\n",
      "4/4 [==============================] - 0s 41ms/step - loss: 7.2600 - mean_squared_error: 83.3899 - val_loss: 14.6530 - val_mean_squared_error: 306.4214\n",
      "Epoch 26/100\n",
      "4/4 [==============================] - 0s 43ms/step - loss: 7.7426 - mean_squared_error: 98.3068 - val_loss: 14.2018 - val_mean_squared_error: 288.7787\n",
      "Epoch 27/100\n",
      "4/4 [==============================] - 0s 42ms/step - loss: 8.1384 - mean_squared_error: 110.9639 - val_loss: 13.5474 - val_mean_squared_error: 264.3879\n",
      "Epoch 28/100\n",
      "4/4 [==============================] - 0s 44ms/step - loss: 7.6983 - mean_squared_error: 105.1368 - val_loss: 13.8118 - val_mean_squared_error: 278.1337\n",
      "Epoch 29/100\n",
      "4/4 [==============================] - 0s 42ms/step - loss: 7.2769 - mean_squared_error: 102.2590 - val_loss: 13.8935 - val_mean_squared_error: 274.9602\n",
      "Epoch 30/100\n",
      "4/4 [==============================] - 0s 41ms/step - loss: 7.1047 - mean_squared_error: 90.9709 - val_loss: 13.8150 - val_mean_squared_error: 267.5670\n",
      "Epoch 31/100\n",
      "4/4 [==============================] - 0s 42ms/step - loss: 6.7660 - mean_squared_error: 77.3521 - val_loss: 13.8330 - val_mean_squared_error: 269.0975\n",
      "Epoch 32/100\n",
      "4/4 [==============================] - 0s 42ms/step - loss: 7.1501 - mean_squared_error: 84.0785 - val_loss: 14.3257 - val_mean_squared_error: 289.7150\n",
      "Epoch 33/100\n",
      "4/4 [==============================] - 0s 41ms/step - loss: 7.0449 - mean_squared_error: 84.2553 - val_loss: 14.9485 - val_mean_squared_error: 329.5185\n",
      "Epoch 34/100\n",
      "4/4 [==============================] - 0s 44ms/step - loss: 7.8783 - mean_squared_error: 109.4422 - val_loss: 14.0641 - val_mean_squared_error: 278.7120\n",
      "Epoch 35/100\n",
      "4/4 [==============================] - 0s 42ms/step - loss: 8.1838 - mean_squared_error: 102.0473 - val_loss: 13.7712 - val_mean_squared_error: 263.7463\n",
      "Epoch 36/100\n",
      "4/4 [==============================] - 0s 42ms/step - loss: 7.9090 - mean_squared_error: 122.7014 - val_loss: 14.7350 - val_mean_squared_error: 313.5756\n",
      "Epoch 37/100\n",
      "4/4 [==============================] - 0s 42ms/step - loss: 8.4309 - mean_squared_error: 121.6878 - val_loss: 15.5234 - val_mean_squared_error: 348.3066\n",
      "Epoch 38/100\n",
      "4/4 [==============================] - 0s 41ms/step - loss: 6.9211 - mean_squared_error: 79.1768 - val_loss: 13.7657 - val_mean_squared_error: 267.8195\n",
      "Epoch 39/100\n",
      "4/4 [==============================] - 0s 43ms/step - loss: 8.6241 - mean_squared_error: 127.7315 - val_loss: 13.4804 - val_mean_squared_error: 252.4451\n",
      "Epoch 40/100\n",
      "4/4 [==============================] - 0s 42ms/step - loss: 7.6113 - mean_squared_error: 91.9812 - val_loss: 13.8641 - val_mean_squared_error: 279.5003\n",
      "Epoch 41/100\n",
      "4/4 [==============================] - 0s 41ms/step - loss: 7.1174 - mean_squared_error: 89.2509 - val_loss: 13.9808 - val_mean_squared_error: 288.4340\n",
      "Epoch 42/100\n",
      "4/4 [==============================] - 0s 42ms/step - loss: 7.9100 - mean_squared_error: 116.5449 - val_loss: 13.1968 - val_mean_squared_error: 244.9979\n",
      "Epoch 43/100\n",
      "4/4 [==============================] - 0s 44ms/step - loss: 6.7323 - mean_squared_error: 72.9826 - val_loss: 13.0378 - val_mean_squared_error: 242.8357\n",
      "Epoch 44/100\n",
      "4/4 [==============================] - 0s 41ms/step - loss: 7.5938 - mean_squared_error: 110.5584 - val_loss: 13.1700 - val_mean_squared_error: 247.0243\n",
      "Epoch 45/100\n",
      "4/4 [==============================] - 0s 40ms/step - loss: 7.5942 - mean_squared_error: 93.6616 - val_loss: 13.4485 - val_mean_squared_error: 262.4318\n",
      "Epoch 46/100\n",
      "4/4 [==============================] - 0s 41ms/step - loss: 8.4556 - mean_squared_error: 119.5775 - val_loss: 13.1558 - val_mean_squared_error: 243.2717\n",
      "Epoch 47/100\n",
      "4/4 [==============================] - 0s 43ms/step - loss: 7.2528 - mean_squared_error: 104.2919 - val_loss: 12.9792 - val_mean_squared_error: 239.9496\n",
      "Epoch 48/100\n",
      "4/4 [==============================] - 0s 47ms/step - loss: 6.8429 - mean_squared_error: 84.9680 - val_loss: 13.1371 - val_mean_squared_error: 249.2555\n",
      "Epoch 49/100\n",
      "4/4 [==============================] - 0s 43ms/step - loss: 8.3284 - mean_squared_error: 123.6565 - val_loss: 13.3392 - val_mean_squared_error: 263.0894\n",
      "Epoch 50/100\n",
      "4/4 [==============================] - 0s 41ms/step - loss: 7.8069 - mean_squared_error: 112.6889 - val_loss: 12.9513 - val_mean_squared_error: 246.8498\n",
      "Epoch 51/100\n",
      "4/4 [==============================] - 0s 43ms/step - loss: 7.8893 - mean_squared_error: 113.4357 - val_loss: 12.9401 - val_mean_squared_error: 244.9795\n",
      "Epoch 52/100\n",
      "4/4 [==============================] - 0s 44ms/step - loss: 8.0426 - mean_squared_error: 141.1277 - val_loss: 13.7456 - val_mean_squared_error: 270.6102\n",
      "Epoch 53/100\n",
      "4/4 [==============================] - 0s 43ms/step - loss: 7.3109 - mean_squared_error: 90.7474 - val_loss: 13.6178 - val_mean_squared_error: 264.9160\n",
      "Epoch 54/100\n",
      "4/4 [==============================] - 0s 41ms/step - loss: 7.2861 - mean_squared_error: 96.0258 - val_loss: 13.7871 - val_mean_squared_error: 273.6879\n",
      "Epoch 55/100\n",
      "4/4 [==============================] - 0s 42ms/step - loss: 7.0436 - mean_squared_error: 80.7645 - val_loss: 13.9797 - val_mean_squared_error: 282.4102\n",
      "Epoch 56/100\n",
      "4/4 [==============================] - 0s 42ms/step - loss: 5.5702 - mean_squared_error: 61.3909 - val_loss: 13.9501 - val_mean_squared_error: 281.1540\n",
      "Epoch 57/100\n",
      "4/4 [==============================] - 0s 44ms/step - loss: 7.3226 - mean_squared_error: 81.4553 - val_loss: 14.9872 - val_mean_squared_error: 321.1866\n",
      "Epoch 58/100\n",
      "4/4 [==============================] - 0s 41ms/step - loss: 8.4776 - mean_squared_error: 123.4972 - val_loss: 15.8348 - val_mean_squared_error: 353.4965\n",
      "Epoch 59/100\n",
      "4/4 [==============================] - 0s 42ms/step - loss: 6.8476 - mean_squared_error: 80.1797 - val_loss: 13.7132 - val_mean_squared_error: 269.1354\n",
      "Epoch 60/100\n",
      "4/4 [==============================] - 0s 42ms/step - loss: 9.6028 - mean_squared_error: 168.8537 - val_loss: 13.7744 - val_mean_squared_error: 272.9703\n",
      "Epoch 61/100\n",
      "4/4 [==============================] - 0s 42ms/step - loss: 7.7590 - mean_squared_error: 98.1308 - val_loss: 15.1448 - val_mean_squared_error: 327.8312\n",
      "Epoch 62/100\n",
      "4/4 [==============================] - 0s 42ms/step - loss: 7.2552 - mean_squared_error: 93.4516 - val_loss: 16.5243 - val_mean_squared_error: 390.0201\n",
      "Epoch 63/100\n",
      "4/4 [==============================] - 0s 40ms/step - loss: 8.0732 - mean_squared_error: 100.0247 - val_loss: 14.3944 - val_mean_squared_error: 302.1269\n",
      "Epoch 64/100\n",
      "4/4 [==============================] - 0s 41ms/step - loss: 7.4454 - mean_squared_error: 98.5441 - val_loss: 13.7636 - val_mean_squared_error: 278.1098\n",
      "Epoch 65/100\n",
      "4/4 [==============================] - 0s 41ms/step - loss: 8.0324 - mean_squared_error: 102.9840 - val_loss: 13.9914 - val_mean_squared_error: 293.4629\n",
      "Epoch 66/100\n",
      "4/4 [==============================] - 0s 43ms/step - loss: 7.7574 - mean_squared_error: 96.0780 - val_loss: 14.0168 - val_mean_squared_error: 302.0203\n",
      "Epoch 67/100\n",
      "4/4 [==============================] - 0s 42ms/step - loss: 7.6690 - mean_squared_error: 95.8726 - val_loss: 14.6770 - val_mean_squared_error: 326.0162\n",
      "Epoch 68/100\n",
      "4/4 [==============================] - 0s 44ms/step - loss: 7.1528 - mean_squared_error: 93.4123 - val_loss: 15.1947 - val_mean_squared_error: 344.5817\n",
      "Epoch 69/100\n",
      "4/4 [==============================] - 0s 42ms/step - loss: 7.5464 - mean_squared_error: 94.1609 - val_loss: 14.0837 - val_mean_squared_error: 290.6744\n",
      "Epoch 70/100\n",
      "4/4 [==============================] - 0s 43ms/step - loss: 7.9263 - mean_squared_error: 106.1472 - val_loss: 13.7962 - val_mean_squared_error: 274.5904\n",
      "Epoch 71/100\n",
      "4/4 [==============================] - 0s 44ms/step - loss: 7.5111 - mean_squared_error: 112.0700 - val_loss: 13.8580 - val_mean_squared_error: 271.0876\n",
      "Epoch 72/100\n",
      "4/4 [==============================] - 0s 41ms/step - loss: 7.9454 - mean_squared_error: 100.4617 - val_loss: 13.8402 - val_mean_squared_error: 274.6351\n",
      "Epoch 73/100\n",
      "4/4 [==============================] - 0s 42ms/step - loss: 6.8333 - mean_squared_error: 83.2371 - val_loss: 14.1212 - val_mean_squared_error: 304.5617\n",
      "Epoch 74/100\n",
      "4/4 [==============================] - 0s 42ms/step - loss: 7.6470 - mean_squared_error: 87.9760 - val_loss: 13.4509 - val_mean_squared_error: 267.6863\n",
      "Epoch 75/100\n",
      "4/4 [==============================] - 0s 41ms/step - loss: 7.3671 - mean_squared_error: 87.2382 - val_loss: 13.0474 - val_mean_squared_error: 252.1982\n",
      "Epoch 76/100\n",
      "4/4 [==============================] - 0s 41ms/step - loss: 7.3474 - mean_squared_error: 102.7113 - val_loss: 13.0659 - val_mean_squared_error: 253.5087\n",
      "Epoch 77/100\n",
      "4/4 [==============================] - 0s 41ms/step - loss: 6.3517 - mean_squared_error: 73.4973 - val_loss: 13.1376 - val_mean_squared_error: 251.8772\n",
      "Epoch 78/100\n",
      "4/4 [==============================] - 0s 42ms/step - loss: 7.3259 - mean_squared_error: 89.0973 - val_loss: 13.8569 - val_mean_squared_error: 276.5723\n",
      "Epoch 79/100\n",
      "4/4 [==============================] - 0s 42ms/step - loss: 8.2351 - mean_squared_error: 111.8727 - val_loss: 13.7000 - val_mean_squared_error: 269.6521\n",
      "Epoch 80/100\n",
      "4/4 [==============================] - 0s 42ms/step - loss: 7.7882 - mean_squared_error: 105.4135 - val_loss: 13.2394 - val_mean_squared_error: 257.0913\n",
      "Epoch 81/100\n",
      "4/4 [==============================] - 0s 42ms/step - loss: 7.0599 - mean_squared_error: 84.3512 - val_loss: 12.9018 - val_mean_squared_error: 253.9154\n",
      "Epoch 82/100\n",
      "4/4 [==============================] - 0s 42ms/step - loss: 7.1814 - mean_squared_error: 82.4406 - val_loss: 13.2987 - val_mean_squared_error: 255.3131\n",
      "Epoch 83/100\n",
      "4/4 [==============================] - 0s 41ms/step - loss: 7.2872 - mean_squared_error: 89.7803 - val_loss: 13.8144 - val_mean_squared_error: 269.9537\n",
      "Epoch 84/100\n",
      "4/4 [==============================] - 0s 43ms/step - loss: 6.7499 - mean_squared_error: 95.0513 - val_loss: 13.1784 - val_mean_squared_error: 247.2910\n",
      "Epoch 85/100\n",
      "4/4 [==============================] - 0s 44ms/step - loss: 8.2584 - mean_squared_error: 115.1607 - val_loss: 13.1094 - val_mean_squared_error: 251.8416\n",
      "Epoch 86/100\n",
      "4/4 [==============================] - 0s 45ms/step - loss: 7.7878 - mean_squared_error: 121.3266 - val_loss: 13.3795 - val_mean_squared_error: 253.5271\n",
      "Epoch 87/100\n",
      "4/4 [==============================] - 0s 42ms/step - loss: 8.7601 - mean_squared_error: 146.1577 - val_loss: 13.3899 - val_mean_squared_error: 253.0064\n",
      "Epoch 88/100\n",
      "4/4 [==============================] - 0s 43ms/step - loss: 7.4505 - mean_squared_error: 93.3100 - val_loss: 13.0483 - val_mean_squared_error: 248.5996\n",
      "Epoch 89/100\n",
      "4/4 [==============================] - 0s 43ms/step - loss: 6.2514 - mean_squared_error: 76.3058 - val_loss: 13.3853 - val_mean_squared_error: 252.6530\n",
      "Epoch 90/100\n",
      "4/4 [==============================] - 0s 44ms/step - loss: 7.0451 - mean_squared_error: 100.1690 - val_loss: 13.4544 - val_mean_squared_error: 256.1852\n",
      "Epoch 91/100\n",
      "4/4 [==============================] - 0s 42ms/step - loss: 7.8701 - mean_squared_error: 110.4613 - val_loss: 13.6291 - val_mean_squared_error: 260.5689\n",
      "Epoch 92/100\n",
      "4/4 [==============================] - 0s 45ms/step - loss: 7.5202 - mean_squared_error: 88.9549 - val_loss: 13.9157 - val_mean_squared_error: 278.2080\n",
      "Epoch 93/100\n",
      "4/4 [==============================] - 0s 43ms/step - loss: 7.2144 - mean_squared_error: 92.3298 - val_loss: 13.6573 - val_mean_squared_error: 270.2797\n",
      "Epoch 94/100\n",
      "4/4 [==============================] - 0s 42ms/step - loss: 8.3431 - mean_squared_error: 136.8589 - val_loss: 13.0848 - val_mean_squared_error: 252.7790\n",
      "Epoch 95/100\n",
      "4/4 [==============================] - 0s 41ms/step - loss: 8.2814 - mean_squared_error: 111.3860 - val_loss: 13.8962 - val_mean_squared_error: 279.5038\n",
      "Epoch 96/100\n",
      "4/4 [==============================] - 0s 44ms/step - loss: 8.3132 - mean_squared_error: 123.7751 - val_loss: 17.8422 - val_mean_squared_error: 430.5803\n",
      "Epoch 97/100\n",
      "4/4 [==============================] - 0s 42ms/step - loss: 8.2405 - mean_squared_error: 112.1818 - val_loss: 18.4544 - val_mean_squared_error: 462.0985\n",
      "Epoch 98/100\n",
      "4/4 [==============================] - 0s 43ms/step - loss: 7.9258 - mean_squared_error: 105.4146 - val_loss: 15.1613 - val_mean_squared_error: 323.2063\n",
      "Epoch 99/100\n",
      "4/4 [==============================] - 0s 44ms/step - loss: 6.7598 - mean_squared_error: 81.1165 - val_loss: 15.6448 - val_mean_squared_error: 339.7353\n",
      "Epoch 100/100\n",
      "4/4 [==============================] - 0s 42ms/step - loss: 7.7201 - mean_squared_error: 97.1108 - val_loss: 17.6671 - val_mean_squared_error: 423.8546\n"
     ]
    },
    {
     "data": {
      "text/plain": [
       "<keras.callbacks.History at 0x2811334f6a0>"
      ]
     },
     "execution_count": 23,
     "metadata": {},
     "output_type": "execute_result"
    }
   ],
   "source": [
    "model.fit(X_train, y_train, batch_size=batch_size, epochs=epochs, validation_data=(X_val, y_val))"
   ]
  },
  {
   "attachments": {},
   "cell_type": "markdown",
   "metadata": {},
   "source": [
    "Testing the prediction"
   ]
  },
  {
   "cell_type": "code",
   "execution_count": 1,
   "metadata": {},
   "outputs": [
    {
     "name": "stdout",
     "output_type": "stream",
     "text": [
      "1/1 [==============================] - 0s 134ms/step\n",
      "43.230637\n"
     ]
    }
   ],
   "source": [
    "from keras.models import load_model\n",
    "from keras.utils import load_img, img_to_array \n",
    "import numpy as np\n",
    "\n",
    "# Load the trained model\n",
    "model = load_model('mse.h5')\n",
    "\n",
    "# Load and preprocess the new image\n",
    "img = load_img('D:/Projects/IoT Domain Analyst J Comp/Codes/Intensity/archive/insat3d_raw_cyclone_ds/CYCLONE_DATASET_FINAL/45.jpg', target_size=(64, 64))\n",
    "x = img_to_array(img)\n",
    "x = np.expand_dims(x, axis=0)\n",
    "x /= 255.0  # Rescale pixel values to [0, 1]\n",
    "\n",
    "# Make the prediction and get the intensity value\n",
    "intensity_pred = model.predict(x)[0][0]\n",
    "print(intensity_pred)\n"
   ]
  },
  {
   "cell_type": "code",
   "execution_count": 2,
   "metadata": {},
   "outputs": [
    {
     "name": "stdout",
     "output_type": "stream",
     "text": [
      "Model: \"sequential_8\"\n",
      "_________________________________________________________________\n",
      " Layer (type)                Output Shape              Param #   \n",
      "=================================================================\n",
      " conv2d_24 (Conv2D)          (None, 62, 62, 32)        896       \n",
      "                                                                 \n",
      " max_pooling2d_24 (MaxPoolin  (None, 62, 62, 32)       0         \n",
      " g2D)                                                            \n",
      "                                                                 \n",
      " conv2d_25 (Conv2D)          (None, 60, 60, 64)        18496     \n",
      "                                                                 \n",
      " max_pooling2d_25 (MaxPoolin  (None, 60, 60, 64)       0         \n",
      " g2D)                                                            \n",
      "                                                                 \n",
      " conv2d_26 (Conv2D)          (None, 58, 58, 32)        18464     \n",
      "                                                                 \n",
      " max_pooling2d_26 (MaxPoolin  (None, 58, 58, 32)       0         \n",
      " g2D)                                                            \n",
      "                                                                 \n",
      " dropout_16 (Dropout)        (None, 58, 58, 32)        0         \n",
      "                                                                 \n",
      " flatten_8 (Flatten)         (None, 107648)            0         \n",
      "                                                                 \n",
      " dense_16 (Dense)            (None, 128)               13779072  \n",
      "                                                                 \n",
      " dropout_17 (Dropout)        (None, 128)               0         \n",
      "                                                                 \n",
      " dense_17 (Dense)            (None, 1)                 129       \n",
      "                                                                 \n",
      "=================================================================\n",
      "Total params: 13,817,057\n",
      "Trainable params: 13,817,057\n",
      "Non-trainable params: 0\n",
      "_________________________________________________________________\n"
     ]
    }
   ],
   "source": [
    "model.summary()"
   ]
  },
  {
   "cell_type": "code",
   "execution_count": null,
   "metadata": {},
   "outputs": [],
   "source": []
  }
 ],
 "metadata": {
  "kernelspec": {
   "display_name": "Python 3",
   "language": "python",
   "name": "python3"
  },
  "language_info": {
   "codemirror_mode": {
    "name": "ipython",
    "version": 3
   },
   "file_extension": ".py",
   "mimetype": "text/x-python",
   "name": "python",
   "nbconvert_exporter": "python",
   "pygments_lexer": "ipython3",
   "version": "3.9.5"
  },
  "orig_nbformat": 4
 },
 "nbformat": 4,
 "nbformat_minor": 2
}
