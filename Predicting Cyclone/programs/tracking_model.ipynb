{
 "cells": [
  {
   "attachments": {},
   "cell_type": "markdown",
   "metadata": {},
   "source": [
    "Libraries"
   ]
  },
  {
   "cell_type": "code",
   "execution_count": 2,
   "metadata": {},
   "outputs": [],
   "source": [
    "import pandas as pd\n",
    "from sklearn.preprocessing import StandardScaler\n",
    "from sklearn.model_selection import train_test_split\n",
    "from keras.models import Sequential\n",
    "from keras.layers import Dense\n",
    "import numpy as np"
   ]
  },
  {
   "attachments": {},
   "cell_type": "markdown",
   "metadata": {},
   "source": [
    "Dataset "
   ]
  },
  {
   "cell_type": "code",
   "execution_count": 3,
   "metadata": {},
   "outputs": [],
   "source": [
    "# read the CSV file\n",
    "df = pd.read_csv('data.csv')\n",
    "\n",
    "# extract input and output columns\n",
    "input_cols = df.iloc[:, :5] # extract the first four columns\n",
    "output_cols = df.iloc[:, -3:] # extract the last three columns\n",
    "\n"
   ]
  },
  {
   "cell_type": "code",
   "execution_count": 4,
   "metadata": {},
   "outputs": [
    {
     "name": "stdout",
     "output_type": "stream",
     "text": [
      "Input data:\n",
      "   station_no  year  day  month  time\n",
      "0           1  1848   11      1     6\n",
      "1           1  1848   11      1     9\n",
      "2           1  1848   11      1    12\n",
      "3           1  1848   11      1    15\n",
      "4           1  1848   11      1    18\n"
     ]
    }
   ],
   "source": [
    "print(\"Input data:\")\n",
    "print(input_cols.head())"
   ]
  },
  {
   "cell_type": "code",
   "execution_count": 6,
   "metadata": {},
   "outputs": [
    {
     "name": "stdout",
     "output_type": "stream",
     "text": [
      "\n",
      "Output data:\n",
      "        lat      lon  dist2land\n",
      "0  -9.00000  79.0000       1679\n",
      "1  -9.40782  77.7341       1744\n",
      "2  -9.83076  76.4735       1817\n",
      "3 -10.28820  75.2264       1911\n",
      "4 -10.80000  74.0000       2007\n"
     ]
    }
   ],
   "source": [
    "print(\"\\nOutput data:\")\n",
    "print(output_cols.head())"
   ]
  },
  {
   "attachments": {},
   "cell_type": "markdown",
   "metadata": {},
   "source": [
    "Train-Test Splitting of dataset"
   ]
  },
  {
   "cell_type": "code",
   "execution_count": 7,
   "metadata": {},
   "outputs": [],
   "source": [
    "X_train, X_test, y_train, y_test = train_test_split(input_cols, output_cols, test_size=0.2)"
   ]
  },
  {
   "attachments": {},
   "cell_type": "markdown",
   "metadata": {},
   "source": [
    "ANN Model Architecture"
   ]
  },
  {
   "cell_type": "code",
   "execution_count": 8,
   "metadata": {},
   "outputs": [],
   "source": [
    "tracking_model = Sequential()\n",
    "tracking_model.add(Dense(5, input_dim=5, activation='relu'))\n",
    "tracking_model.add(Dense(15, activation='relu'))\n",
    "tracking_model.add(Dense(10, activation='relu'))\n",
    "tracking_model.add(Dense(3, activation='linear'))"
   ]
  },
  {
   "attachments": {},
   "cell_type": "markdown",
   "metadata": {},
   "source": [
    "Model Evaluation Metrics"
   ]
  },
  {
   "cell_type": "code",
   "execution_count": 11,
   "metadata": {},
   "outputs": [],
   "source": [
    "tracking_model.compile(\n",
    "   loss = 'mae', optimizer = 'adam', metrics = ['accuracy']\n",
    ")"
   ]
  },
  {
   "attachments": {},
   "cell_type": "markdown",
   "metadata": {},
   "source": [
    "Model Training"
   ]
  },
  {
   "cell_type": "code",
   "execution_count": 13,
   "metadata": {},
   "outputs": [
    {
     "name": "stdout",
     "output_type": "stream",
     "text": [
      "Epoch 1/10\n",
      "12311/12311 [==============================] - 11s 876us/step - loss: 198.9333 - accuracy: 0.9589\n",
      "Epoch 2/10\n",
      "12311/12311 [==============================] - 11s 911us/step - loss: 198.8973 - accuracy: 0.9589\n",
      "Epoch 3/10\n",
      "12311/12311 [==============================] - 11s 909us/step - loss: 198.9237 - accuracy: 0.9589\n",
      "Epoch 4/10\n",
      "12311/12311 [==============================] - 20s 2ms/step - loss: 198.9372 - accuracy: 0.9589\n",
      "Epoch 5/10\n",
      "12311/12311 [==============================] - 18s 1ms/step - loss: 198.9199 - accuracy: 0.9589\n",
      "Epoch 6/10\n",
      "12311/12311 [==============================] - 13s 1ms/step - loss: 198.9125 - accuracy: 0.9589\n",
      "Epoch 7/10\n",
      "12311/12311 [==============================] - 12s 1ms/step - loss: 198.9337 - accuracy: 0.9589\n",
      "Epoch 8/10\n",
      "12311/12311 [==============================] - 16s 1ms/step - loss: 198.9195 - accuracy: 0.9589\n",
      "Epoch 9/10\n",
      "12311/12311 [==============================] - 26s 2ms/step - loss: 198.9055 - accuracy: 0.9589\n",
      "Epoch 10/10\n",
      "12311/12311 [==============================] - 29s 2ms/step - loss: 198.8778 - accuracy: 0.9589\n"
     ]
    },
    {
     "data": {
      "text/plain": [
       "<keras.callbacks.History at 0x2f160780d30>"
      ]
     },
     "execution_count": 13,
     "metadata": {},
     "output_type": "execute_result"
    }
   ],
   "source": [
    "tracking_model.fit(X_train, y_train, epochs=10, batch_size=10, verbose=1)"
   ]
  },
  {
   "cell_type": "code",
   "execution_count": 51,
   "metadata": {},
   "outputs": [
    {
     "name": "stdout",
     "output_type": "stream",
     "text": [
      "Model: \"sequential_2\"\n",
      "_________________________________________________________________\n",
      " Layer (type)                Output Shape              Param #   \n",
      "=================================================================\n",
      " dense_10 (Dense)            (None, 5)                 30        \n",
      "                                                                 \n",
      " dense_11 (Dense)            (None, 15)                90        \n",
      "                                                                 \n",
      " dense_12 (Dense)            (None, 10)                160       \n",
      "                                                                 \n",
      " dense_13 (Dense)            (None, 3)                 33        \n",
      "                                                                 \n",
      "=================================================================\n",
      "Total params: 313\n",
      "Trainable params: 313\n",
      "Non-trainable params: 0\n",
      "_________________________________________________________________\n"
     ]
    }
   ],
   "source": [
    "tracking_model.summary()"
   ]
  },
  {
   "attachments": {},
   "cell_type": "markdown",
   "metadata": {},
   "source": [
    "Testing Model with Known Cases"
   ]
  },
  {
   "cell_type": "code",
   "execution_count": 14,
   "metadata": {},
   "outputs": [],
   "source": [
    "test_case = np.array([[1, 1848, 00, 1, 13]])"
   ]
  },
  {
   "cell_type": "code",
   "execution_count": 15,
   "metadata": {},
   "outputs": [
    {
     "name": "stdout",
     "output_type": "stream",
     "text": [
      "1/1 [==============================] - 0s 102ms/step\n"
     ]
    },
    {
     "data": {
      "text/plain": [
       "array([[-17.389458,  57.8376  , 845.2891  ]], dtype=float32)"
      ]
     },
     "execution_count": 15,
     "metadata": {},
     "output_type": "execute_result"
    }
   ],
   "source": [
    "tracking_model.predict(test_case)"
   ]
  },
  {
   "cell_type": "code",
   "execution_count": 16,
   "metadata": {},
   "outputs": [
    {
     "name": "stderr",
     "output_type": "stream",
     "text": [
      "WARNING:absl:Found untraced functions such as _update_step_xla while saving (showing 1 of 1). These functions will not be directly callable after loading.\n"
     ]
    },
    {
     "name": "stdout",
     "output_type": "stream",
     "text": [
      "INFO:tensorflow:Assets written to: tracking_1\\assets\n"
     ]
    },
    {
     "name": "stderr",
     "output_type": "stream",
     "text": [
      "INFO:tensorflow:Assets written to: tracking_1\\assets\n"
     ]
    }
   ],
   "source": [
    "tracking_model.save(\"tracking_1\")"
   ]
  },
  {
   "cell_type": "code",
   "execution_count": null,
   "metadata": {},
   "outputs": [],
   "source": []
  }
 ],
 "metadata": {
  "kernelspec": {
   "display_name": "Python 3",
   "language": "python",
   "name": "python3"
  },
  "language_info": {
   "codemirror_mode": {
    "name": "ipython",
    "version": 3
   },
   "file_extension": ".py",
   "mimetype": "text/x-python",
   "name": "python",
   "nbconvert_exporter": "python",
   "pygments_lexer": "ipython3",
   "version": "3.9.5"
  },
  "orig_nbformat": 4
 },
 "nbformat": 4,
 "nbformat_minor": 2
}
