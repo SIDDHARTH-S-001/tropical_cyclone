{
 "cells": [
  {
   "cell_type": "code",
   "execution_count": 8,
   "metadata": {},
   "outputs": [
    {
     "name": "stdout",
     "output_type": "stream",
     "text": [
      "[2010 1990 1991 2012 2001 2013 1992 2004 1995 1997 1988 1985 1985 1999\n",
      " 1988 1991 1989 1995 1992 1995 1992 1996 2005 1988 2010 2013 2008 1985\n",
      " 2001 2002 2010 1998 2000 2000 2002 1995 2003 2004 2007 1998 1985 2013\n",
      " 2000 2001 2012 1985 1998 1990 1995 1985 2006 1998 1992 2006 1994 2001\n",
      " 2012 1994 2004 2007 2009 2011 1996 1995 2010 1994 2001 1995 1985 1991\n",
      " 1991 2013 2005 2012 1985 1985 1988 1994 2013 1995 1994 1985 1988 1985\n",
      " 1998 1985 1985 2006 1994 2009 1994 1999 2006 1986 2007 2008 1985 2011\n",
      " 1988 2012]\n"
     ]
    }
   ],
   "source": [
    "import numpy as np\n",
    "import pandas as pd\n",
    "\n",
    "# Set the range of values for each column\n",
    "column_ranges = [(1985, 2014), (60, 300), (17, 68), (2, 85), (7, 30)]\n",
    "\n",
    "# Generate a 2D array with 4 columns and 100 rows\n",
    "data = np.zeros((100, 5), dtype=int)\n",
    "\n",
    "# Fill each column with 5 values within the specified range\n",
    "for i in range(5):\n",
    "    data[:, i] = np.random.uniform(column_ranges[i][0], column_ranges[i][1], size=100)\n",
    "\n",
    "# Select 100 random values from the first column of the generated data\n",
    "random_values = np.random.choice(data[:, 0], size=100)\n",
    "np.savetxt(\"generated_data4.csv\", data, delimiter=\",\", fmt='%d')\n",
    "\n",
    "# Print the selected random values\n",
    "print(random_values)\n"
   ]
  },
  {
   "cell_type": "code",
   "execution_count": null,
   "metadata": {},
   "outputs": [],
   "source": []
  }
 ],
 "metadata": {
  "kernelspec": {
   "display_name": "Python 3",
   "language": "python",
   "name": "python3"
  },
  "language_info": {
   "codemirror_mode": {
    "name": "ipython",
    "version": 3
   },
   "file_extension": ".py",
   "mimetype": "text/x-python",
   "name": "python",
   "nbconvert_exporter": "python",
   "pygments_lexer": "ipython3",
   "version": "3.9.5"
  },
  "orig_nbformat": 4
 },
 "nbformat": 4,
 "nbformat_minor": 2
}
